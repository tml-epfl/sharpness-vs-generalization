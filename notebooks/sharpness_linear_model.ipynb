{
  "cells": [
    {
      "cell_type": "code",
      "execution_count": 8,
      "metadata": {
        "pycharm": {
          "is_executing": false,
          "metadata": false,
          "name": "#%%\n"
        }
      },
      "outputs": [
        {
          "name": "stdout",
          "output_type": "stream",
          "text": [
            "The autoreload extension is already loaded. To reload it, use:\n",
            "  %reload_ext autoreload\n"
          ]
        }
      ],
      "source": [
        "%load_ext autoreload\n",
        "%autoreload 2\n",
        "import os\n",
        "import glob\n",
        "import numpy as np\n",
        "import matplotlib.pyplot as plt\n",
        "import matplotlib.ticker as mtick\n",
        "import seaborn as sns\n",
        "os.chdir('/tmldata1/andriush/auto-sharpness-dev')\n",
        "from utils_notebooks import subsample_metrics_dict\n",
        "%matplotlib inline\n",
        "sns.set(font_scale=1.1)\n",
        "\n",
        "np.random.seed(1)\n",
        "# np.set_printoptions(precision=6, suppress=True)\n",
        "np.set_printoptions()\n",
        "plot_height = 10\n",
        "marker_size, line_width = 3.5, 2.0\n",
        "label_size, legend_size = 15, 13\n",
        "\n"
      ]
    },
    {
      "cell_type": "code",
      "execution_count": 9,
      "metadata": {
        "pycharm": {
          "is_executing": false,
          "metadata": false,
          "name": "#%%\n"
        }
      },
      "outputs": [],
      "source": [
        "def dataset_gaussians_binary(v_global, n, d, std):\n",
        "    v = v_global.copy()\n",
        "    v /= (v**2).sum()**0.5  # make it unit norm\n",
        "    mu_zero, mu_one = v, -v\n",
        "\n",
        "    x = np.concatenate([mu_zero + std*np.random.randn(n // 2, d), mu_one + std*np.random.randn(n // 2, d)])\n",
        "    y = np.concatenate([-np.ones(n // 2), np.ones(n // 2)])\n",
        "    indices = np.random.permutation(np.arange(n))\n",
        "    x, y = x[indices], y[indices]\n",
        "    return x, y\n",
        "\n",
        "\n",
        "def grad_logloss_w(x, y, w):\n",
        "    f = x @ w\n",
        "    loss_der = -y / (1 + np.exp(f*y))\n",
        "    return np.mean(loss_der[:, None] * x, 0) \n",
        "\n",
        "\n",
        "def logloss(x, y, w, weight_norm=False, logit_normalization=False):\n",
        "    if weight_norm:\n",
        "        w = w / (w**2).sum()**0.5\n",
        "    f = x @ w\n",
        "    if logit_normalization:\n",
        "        f = np.sign(f)\n",
        "    return np.mean(np.log(1 + np.exp(-f*y)))\n",
        "\n",
        "\n",
        "def logloss_sam_m_1(x, y, w, rho, weight_norm=False, rho_weight_norm_fraction=False, logit_normalization=False):\n",
        "    if weight_norm:\n",
        "        w = w / (w**2).sum()**0.5\n",
        "    if rho_weight_norm_fraction:\n",
        "        rho = rho * (w**2).sum()**0.5\n",
        "    f = x @ w\n",
        "    worst_margin = f*y - rho*np.sum(x**2, 1)**0.5\n",
        "    if logit_normalization:\n",
        "        worst_margin = np.sign(worst_margin)\n",
        "    worst_loss = np.mean(np.log(1 + np.exp(-worst_margin)))\n",
        "    return worst_loss\n",
        "\n"
      ]
    },
    {
      "cell_type": "code",
      "execution_count": 10,
      "metadata": {
        "pycharm": {
          "is_executing": false,
          "metadata": false,
          "name": "#%%\n"
        }
      },
      "outputs": [
        {
          "name": "stdout",
          "output_type": "stream",
          "text": [
            "err for w_init: 0.00%\n",
            "iter=0: loss=0.692/0.692, err=100.0%/100.0% (best_err=100.0%/100.0%)\n",
            "iter=20: loss=0.009/0.009, err=0.0%/0.0% (best_err=0.0%/0.0%)\n",
            "iter=40: loss=0.005/0.005, err=0.0%/0.0% (best_err=0.0%/0.0%)\n",
            "iter=60: loss=0.003/0.003, err=0.0%/0.0% (best_err=0.0%/0.0%)\n",
            "iter=80: loss=0.002/0.002, err=0.0%/0.0% (best_err=0.0%/0.0%)\n",
            "iter=99: loss=0.002/0.002, err=0.0%/0.0% (best_err=0.0%/0.0%)\n"
          ]
        }
      ],
      "source": [
        "n_train, n_test = 50, 1000\n",
        "d = 100\n",
        "std = 0.025\n",
        "eps_train = eps_test = 0.85\n",
        "frac_ln = 0.0\n",
        "n_iters = 100  # 4000\n",
        "test_err_flag = False\n",
        "color_erm, color_sam = 'red', 'blue'\n",
        "at_weight_space = True\n",
        "\n",
        "test_err_flag = True\n",
        "np.random.seed(0)\n",
        "\n",
        "v_global = np.random.randn(d)\n",
        "\n",
        "x_all, y_all = dataset_gaussians_binary(v_global, n_train+n_test, d, std)\n",
        "x_train, y_train = x_all[:n_train], y_all[:n_train]\n",
        "# y_train[:int(frac_ln*n_train)] *= -1  # introduce label noise by flipping labels\n",
        "x_test, y_test = x_all[n_train:], y_all[n_train:]\n",
        "\n",
        "w_init = np.random.randn(d) / 500\n",
        "# w_init /= (w_init**2).sum()**0.5\n",
        "\n",
        "print('err for w_init: {:.2%}'.format((np.sign(x_test @ w_init) != y_test).mean()))    \n",
        "\n",
        "# for at_type in ['standard']: \n",
        "alpha = 5.0\n",
        "\n",
        "w = w_init.copy()\n",
        "best_train_err, best_test_err = np.inf, np.inf\n",
        "train_iters, train_errs, test_errs = list(), list(), list()\n",
        "for i in range(n_iters):    \n",
        "    train_loss = logloss(x_train, y_train, w)\n",
        "    test_loss = logloss(x_test, y_test, w)\n",
        "    train_err = ((y_train * (x_train @ w) - eps_train*(w**2).sum()**0.5) < 0.0).mean()\n",
        "    test_err = ((y_test * (x_test @ w) - eps_test*(w**2).sum()**0.5) < 0.0).mean()\n",
        "    if train_err < best_train_err:\n",
        "        best_train_err = train_err\n",
        "    if test_err < best_test_err:\n",
        "        best_test_err = test_err\n",
        "    \n",
        "    every_k = 1\n",
        "    if i % every_k == 0 or i < 20:\n",
        "        train_iters.append(i)\n",
        "        train_errs.append(train_err)\n",
        "        test_errs.append(test_err)\n",
        "    if i % 20 == 0 or i == n_iters-1:\n",
        "        # margins = y_train * (x_train @ w)\n",
        "        # print(margins[:int(frac_ln*n_train)].mean(), margins[int(frac_ln*n_train):].mean())\n",
        "        print('iter={}: loss={:.3f}/{:.3f}, err={:.1%}/{:.1%} (best_err={:.1%}/{:.1%})'.format(i, train_loss, test_loss, train_err, test_err, best_train_err, best_test_err))\n",
        "    \n",
        "    w = w - alpha * grad_logloss_w(x_train, y_train, w)\n"
      ]
    },
    {
      "cell_type": "code",
      "execution_count": 11,
      "metadata": {
        "pycharm": {
          "is_executing": false,
          "metadata": false,
          "name": "#%%\n"
        }
      },
      "outputs": [
        {
          "name": "stdout",
          "output_type": "stream",
          "text": [
            "||w||_2=6.2469, loss=0.0020\n",
            "max_loss=0.0033, sharpness=0.0013\n"
          ]
        }
      ],
      "source": [
        "loss = logloss(x_train, y_train, w)\n",
        "print('||w||_2={:.4f}, loss={:.4f}'.format((w**2).sum()**0.5, loss))\n",
        "for rho in [0.5]:\n",
        "    max_loss = logloss_sam_m_1(x_train, y_train, w, rho)\n",
        "    print('max_loss={:.4f}, sharpness={:.4f}'.format(max_loss, max_loss - loss))\n",
        "  "
      ]
    },
    {
      "cell_type": "code",
      "execution_count": 12,
      "metadata": {},
      "outputs": [
        {
          "data": {
            "text/plain": [
              "array([-1., -1., -1., -1., -1.,  1.,  1., -1.,  1.,  1., -1.,  1.,  1.,\n",
              "       -1., -1.,  1., -1.,  1.,  1.,  1., -1., -1., -1.,  1.,  1., -1.,\n",
              "       -1.,  1., -1., -1.,  1., -1.,  1.,  1.,  1.,  1., -1.,  1.,  1.,\n",
              "       -1., -1.,  1.,  1., -1.,  1., -1., -1., -1.,  1.,  1.])"
            ]
          },
          "execution_count": 12,
          "metadata": {},
          "output_type": "execute_result"
        }
      ],
      "source": [
        "np.sign(x_train @ w)"
      ]
    },
    {
      "cell_type": "code",
      "execution_count": 21,
      "metadata": {
        "pycharm": {
          "is_executing": false,
          "metadata": false,
          "name": "#%%\n"
        }
      },
      "outputs": [
        {
          "name": "stdout",
          "output_type": "stream",
          "text": [
            "alpha=0.00, max_loss=0.6917, sharpness=0.0016\n",
            "alpha=0.01, max_loss=0.6771, sharpness=0.0167\n",
            "alpha=0.12, max_loss=0.5323, sharpness=0.1379\n",
            "alpha=1.27, max_loss=0.0212, sharpness=0.0208\n",
            "alpha=13.86, max_loss=0.0000, sharpness=0.0000\n",
            "alpha=151.31, max_loss=0.0000, sharpness=0.0000\n",
            "alpha=1024.00, max_loss=0.0000, sharpness=0.0000\n",
            "alpha=0.00, max_loss=0.6909, sharpness=0.0008\n",
            "alpha=0.01, max_loss=0.6687, sharpness=0.0083\n",
            "alpha=0.12, max_loss=0.4592, sharpness=0.0649\n",
            "alpha=1.27, max_loss=0.0028, sharpness=0.0024\n",
            "alpha=13.86, max_loss=0.0000, sharpness=0.0000\n",
            "alpha=151.31, max_loss=0.0000, sharpness=0.0000\n",
            "alpha=1024.00, max_loss=0.0000, sharpness=0.0000\n",
            "alpha=0.00, max_loss=0.6904, sharpness=0.0003\n",
            "alpha=0.01, max_loss=0.6637, sharpness=0.0033\n",
            "alpha=0.12, max_loss=0.4193, sharpness=0.0250\n",
            "alpha=1.27, max_loss=0.0008, sharpness=0.0005\n",
            "alpha=13.86, max_loss=0.0000, sharpness=0.0000\n",
            "alpha=151.31, max_loss=0.0000, sharpness=0.0000\n",
            "alpha=1024.00, max_loss=0.0000, sharpness=0.0000\n"
          ]
        },
        {
          "data": {
            "image/png": "[encoded data removed]",
            "text/plain": [
              "<Figure size 432x288 with 1 Axes>"
            ]
          },
          "metadata": {},
          "output_type": "display_data"
        }
      ],
      "source": [
        "weight_norm = False\n",
        "adaptive_sharpness = True\n",
        "logit_normalization = False\n",
        "for rho in [0.1, 0.25, 0.5][::-1]:\n",
        "    n_alphas = 30\n",
        "    alphas = np.logspace(-10, 10, num=n_alphas, base=2)  \n",
        "    sharpness_vals = []\n",
        "    for i, alpha in enumerate(alphas):\n",
        "        loss = logloss(x_train, y_train, alpha*w, weight_norm=weight_norm, logit_normalization=logit_normalization)\n",
        "        max_loss = logloss_sam_m_1(x_train, y_train, alpha*w, rho, weight_norm=weight_norm, rho_weight_norm_fraction=adaptive_sharpness, logit_normalization=logit_normalization)\n",
        "        sharpness_vals.append(max_loss - loss)\n",
        "        # sharpness_vals.append((max_loss - loss) / (1 + loss))\n",
        "        if i % 5 == 0 or i == n_alphas-1:\n",
        "            print('alpha={:.2f}, max_loss={:.4f}, sharpness={:.4f}'.format(alpha, max_loss, sharpness_vals[-1]))\n",
        "    \n",
        "    ax = sns.lineplot(x=alphas, y=sharpness_vals, marker='o', label='Adaptive sharpness, $\\\\rho={}$'.format(rho))\n",
        "\n",
        "# ax.set_ylim(0.12, 0.4)\n",
        "ax.set_xscale('log')\n",
        "# ax.set_yscale('log')\n",
        "ax.set_xlabel('Weight scaling coefficient', size=label_size)\n",
        "ax.set_ylabel('Sharpness', size=label_size)\n",
        "ax.legend(loc='best', fontsize=legend_size)\n",
        "plt.savefig('plots/linear_model_sharpness.pdf', bbox_inches='tight')\n",
        "plt.show()\n"
      ]
    },
    {
      "cell_type": "code",
      "execution_count": 14,
      "metadata": {
        "pycharm": {
          "is_executing": false,
          "metadata": false,
          "name": "#%%\n"
        }
      },
      "outputs": [
        {
          "data": {
            "image/png": "[encoded data removed]",
            "text/plain": [
              "<Figure size 432x288 with 1 Axes>"
            ]
          },
          "metadata": {},
          "output_type": "display_data"
        }
      ],
      "source": [
        "def logloss_sam_m_n(x, y, w, rho, n_iters=100, weight_norm=False, rho_weight_norm_fraction=True, verbose=False):\n",
        "    if weight_norm:\n",
        "        w = w / (w**2).sum()**0.5\n",
        "    if rho_weight_norm_fraction:\n",
        "        rho = rho * (w**2).sum()**0.5\n",
        "\n",
        "    alpha = 2 / n_iters * rho\n",
        "    max_loss = logloss(x, y, w)\n",
        "    # delta = np.zeros_like(w)\n",
        "    delta = np.random.randn(w.shape[0])\n",
        "    delta /= (delta**2).sum()**0.5 \n",
        "    for i in range(n_iters):\n",
        "        grad = grad_logloss_w(x, y, w+delta)\n",
        "        grad_norm = (grad**2).sum()**0.5\n",
        "        if grad_norm < 10**-10:\n",
        "            print('warning: grad norm is {} (<10^-10)'.format(grad_norm))\n",
        "        delta = delta + alpha / grad_norm * grad_logloss_w(x, y, w+delta)\n",
        "        delta_norm = (delta**2).sum()**0.5\n",
        "        if delta_norm > rho:\n",
        "            delta = rho / delta_norm * delta\n",
        "        loss = logloss(x, y, w+delta)\n",
        "        if loss > max_loss:\n",
        "            max_loss = loss\n",
        "        if verbose and i % 5 == 0:\n",
        "            print(loss)\n",
        "    return max_loss\n",
        "\n",
        "# logloss_sam_m_1(x_train, y_train, w, rho, weight_norm=False, rho_weight_norm_fraction=True)\n",
        "np.random.seed(0)\n",
        "rho = 0.25\n",
        "n_repeat = 1000\n",
        "weight_norm = False\n",
        "n_ex = 50\n",
        "\n",
        "for n_iters in [100]:\n",
        "    sharpness_vals = []\n",
        "    for i in range(n_repeat):\n",
        "        loss = logloss(x_train[:n_ex], y_train[:n_ex], w, weight_norm=weight_norm)\n",
        "        max_loss = logloss_sam_m_n(x_train[:n_ex], y_train[:n_ex], w, rho, n_iters, weight_norm=weight_norm, rho_weight_norm_fraction=True, verbose=False)\n",
        "        sharpness_vals.append(max_loss - loss)\n",
        "        # print('sharpness', sharpness_vals[-1])\n",
        "    \n",
        "    ax = sns.histplot(x=sharpness_vals, bins=15, log_scale=True, label='$m=n$ sharpness')\n",
        "    # ax.set_yscale('log')\n",
        "    # plt.ticklabel_format(style='sci', axis='x', scilimits=(0,0))\n",
        "    ax.set_xlabel('Sharpness')\n",
        "    ax.set_ylabel('Count over random initialization')\n",
        "    ax.legend(loc='best')\n",
        "    plt.savefig('plots/histogram_sharpness_m_n.pdf', bbox_inches='tight')\n",
        "    plt.show()\n",
        "    "
      ]
    },
    {
      "cell_type": "code",
      "execution_count": null,
      "metadata": {
        "pycharm": {
          "is_executing": false,
          "metadata": false,
          "name": "#%%\n"
        }
      },
      "outputs": [],
      "source": []
    }
  ],
  "metadata": {
    "kernelspec": {
      "display_name": "Python 3",
      "language": "python",
      "name": "python3"
    },
    "language_info": {
      "codemirror_mode": {
        "name": "ipython",
        "version": 3
      },
      "file_extension": ".py",
      "mimetype": "text/x-python",
      "name": "python",
      "nbconvert_exporter": "python",
      "pygments_lexer": "ipython3",
      "version": "3.8.10"
    },
    "stem_cell": {
      "cell_type": "raw",
      "metadata": {
        "pycharm": {
          "metadata": false
        }
      },
      "source": ""
    },
    "vscode": {
      "interpreter": {
        "hash": "e7370f93d1d0cde622a1f8e1c04877d8463912d04d973331ad4851f04de6915a"
      }
    }
  },
  "nbformat": 4,
  "nbformat_minor": 0
}
